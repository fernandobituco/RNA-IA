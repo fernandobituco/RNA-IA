{
 "cells": [
  {
   "cell_type": "code",
   "execution_count": 1,
   "metadata": {},
   "outputs": [],
   "source": [
    "import pandas as pd\n",
    "import tensorflow as tf\n",
    "from tensorflow import keras\n",
    "from tensorflow.keras import layers\n",
    "from sklearn.model_selection import train_test_split\n",
    "from sklearn.preprocessing import LabelEncoder\n",
    "from keras.utils import vis_utils"
   ]
  },
  {
   "cell_type": "code",
   "execution_count": 6,
   "metadata": {},
   "outputs": [
    {
     "data": {
      "text/html": [
       "<div>\n",
       "<style scoped>\n",
       "    .dataframe tbody tr th:only-of-type {\n",
       "        vertical-align: middle;\n",
       "    }\n",
       "\n",
       "    .dataframe tbody tr th {\n",
       "        vertical-align: top;\n",
       "    }\n",
       "\n",
       "    .dataframe thead th {\n",
       "        text-align: right;\n",
       "    }\n",
       "</style>\n",
       "<table border=\"1\" class=\"dataframe\">\n",
       "  <thead>\n",
       "    <tr style=\"text-align: right;\">\n",
       "      <th></th>\n",
       "      <th>variance of Wavelet</th>\n",
       "      <th>skewness of Wavelet</th>\n",
       "      <th>curtosis of Wavelet</th>\n",
       "      <th>entropy of image</th>\n",
       "      <th>class</th>\n",
       "    </tr>\n",
       "  </thead>\n",
       "  <tbody>\n",
       "    <tr>\n",
       "      <th>1025</th>\n",
       "      <td>-1.10220</td>\n",
       "      <td>-5.83950</td>\n",
       "      <td>4.56410</td>\n",
       "      <td>0.687050</td>\n",
       "      <td>1</td>\n",
       "    </tr>\n",
       "    <tr>\n",
       "      <th>1098</th>\n",
       "      <td>-1.80460</td>\n",
       "      <td>-6.81410</td>\n",
       "      <td>6.70190</td>\n",
       "      <td>1.168100</td>\n",
       "      <td>1</td>\n",
       "    </tr>\n",
       "    <tr>\n",
       "      <th>472</th>\n",
       "      <td>3.83840</td>\n",
       "      <td>6.18510</td>\n",
       "      <td>-2.04390</td>\n",
       "      <td>-0.033204</td>\n",
       "      <td>0</td>\n",
       "    </tr>\n",
       "    <tr>\n",
       "      <th>546</th>\n",
       "      <td>1.45070</td>\n",
       "      <td>8.79030</td>\n",
       "      <td>-2.23240</td>\n",
       "      <td>-0.652590</td>\n",
       "      <td>0</td>\n",
       "    </tr>\n",
       "    <tr>\n",
       "      <th>537</th>\n",
       "      <td>-0.10648</td>\n",
       "      <td>-0.76771</td>\n",
       "      <td>7.75750</td>\n",
       "      <td>0.641790</td>\n",
       "      <td>0</td>\n",
       "    </tr>\n",
       "    <tr>\n",
       "      <th>136</th>\n",
       "      <td>5.43800</td>\n",
       "      <td>9.46690</td>\n",
       "      <td>-4.94170</td>\n",
       "      <td>-3.920200</td>\n",
       "      <td>0</td>\n",
       "    </tr>\n",
       "    <tr>\n",
       "      <th>38</th>\n",
       "      <td>4.56790</td>\n",
       "      <td>3.19290</td>\n",
       "      <td>-2.10550</td>\n",
       "      <td>0.296530</td>\n",
       "      <td>0</td>\n",
       "    </tr>\n",
       "    <tr>\n",
       "      <th>1333</th>\n",
       "      <td>-2.86190</td>\n",
       "      <td>4.51930</td>\n",
       "      <td>-0.58123</td>\n",
       "      <td>-4.262900</td>\n",
       "      <td>1</td>\n",
       "    </tr>\n",
       "    <tr>\n",
       "      <th>848</th>\n",
       "      <td>-2.90980</td>\n",
       "      <td>-10.07120</td>\n",
       "      <td>8.41560</td>\n",
       "      <td>-1.994800</td>\n",
       "      <td>1</td>\n",
       "    </tr>\n",
       "    <tr>\n",
       "      <th>159</th>\n",
       "      <td>1.35660</td>\n",
       "      <td>4.23580</td>\n",
       "      <td>2.13410</td>\n",
       "      <td>0.321100</td>\n",
       "      <td>0</td>\n",
       "    </tr>\n",
       "  </tbody>\n",
       "</table>\n",
       "</div>"
      ],
      "text/plain": [
       "      variance of Wavelet  skewness of Wavelet  curtosis of Wavelet  \\\n",
       "1025             -1.10220             -5.83950              4.56410   \n",
       "1098             -1.80460             -6.81410              6.70190   \n",
       "472               3.83840              6.18510             -2.04390   \n",
       "546               1.45070              8.79030             -2.23240   \n",
       "537              -0.10648             -0.76771              7.75750   \n",
       "136               5.43800              9.46690             -4.94170   \n",
       "38                4.56790              3.19290             -2.10550   \n",
       "1333             -2.86190              4.51930             -0.58123   \n",
       "848              -2.90980            -10.07120              8.41560   \n",
       "159               1.35660              4.23580              2.13410   \n",
       "\n",
       "      entropy of image  class  \n",
       "1025          0.687050      1  \n",
       "1098          1.168100      1  \n",
       "472          -0.033204      0  \n",
       "546          -0.652590      0  \n",
       "537           0.641790      0  \n",
       "136          -3.920200      0  \n",
       "38            0.296530      0  \n",
       "1333         -4.262900      1  \n",
       "848          -1.994800      1  \n",
       "159           0.321100      0  "
      ]
     },
     "execution_count": 6,
     "metadata": {},
     "output_type": "execute_result"
    }
   ],
   "source": [
    "# Carregar o arquivo CSV\n",
    "col_names = ['variance of Wavelet', 'skewness of Wavelet', 'curtosis of Wavelet', 'entropy of image', 'class']\n",
    "notas = pd.read_csv('data_banknote_authentication.csv', header=None, names=col_names)\n",
    "notas.sample(10)"
   ]
  },
  {
   "cell_type": "code",
   "execution_count": 30,
   "metadata": {},
   "outputs": [],
   "source": [
    "# Selecionar os recursos e rótulos\n",
    "features = notas.iloc[:, 0:4]\n",
    "label = notas.iloc[:, 4]"
   ]
  },
  {
   "cell_type": "code",
   "execution_count": 31,
   "metadata": {},
   "outputs": [],
   "source": [
    "# Dividir os dados em conjuntos de treinamento e teste reorganizando a tabela de forma aleatória\n",
    "train_data, test_data = train_test_split(notas.sample(frac=1), test_size=0.3)"
   ]
  },
  {
   "cell_type": "code",
   "execution_count": 32,
   "metadata": {},
   "outputs": [],
   "source": [
    "# Converter os rótulos usando o LabelEncoder\n",
    "label_encoder = LabelEncoder()\n",
    "label = label_encoder.fit_transform(label)"
   ]
  },
  {
   "cell_type": "code",
   "execution_count": 52,
   "metadata": {},
   "outputs": [],
   "source": [
    "#Dividir os dados em conjuntos de treinamento e teste\n",
    "X_train, X_test, y_train, y_test = train_test_split(features, label, test_size=0.3, random_state=42)"
   ]
  },
  {
   "cell_type": "code",
   "execution_count": 53,
   "metadata": {},
   "outputs": [],
   "source": [
    "# Criar o modelo da rede neural\n",
    "model = keras.Sequential([\n",
    "    layers.Dense(16, activation='relu', input_shape=(len(features.columns),)),\n",
    "    layers.Dense(8, activation='relu'),\n",
    "    layers.Dense(1, activation='sigmoid')\n",
    "])"
   ]
  },
  {
   "cell_type": "code",
   "execution_count": 54,
   "metadata": {},
   "outputs": [],
   "source": [
    "# Compilar o modelo\n",
    "model.compile(optimizer='adam',\n",
    "              loss='binary_crossentropy',\n",
    "              metrics=['accuracy'])"
   ]
  },
  {
   "cell_type": "code",
   "execution_count": 55,
   "metadata": {},
   "outputs": [
    {
     "name": "stdout",
     "output_type": "stream",
     "text": [
      "Epoch 1/10\n",
      "30/30 [==============================] - 1s 6ms/step - loss: 0.7764 - accuracy: 0.4427 - val_loss: 0.6139 - val_accuracy: 0.6383\n",
      "Epoch 2/10\n",
      "30/30 [==============================] - 0s 2ms/step - loss: 0.5295 - accuracy: 0.7198 - val_loss: 0.4689 - val_accuracy: 0.7791\n",
      "Epoch 3/10\n",
      "30/30 [==============================] - 0s 2ms/step - loss: 0.4151 - accuracy: 0.8208 - val_loss: 0.3696 - val_accuracy: 0.9078\n",
      "Epoch 4/10\n",
      "30/30 [==============================] - 0s 4ms/step - loss: 0.3275 - accuracy: 0.9083 - val_loss: 0.2872 - val_accuracy: 0.9684\n",
      "Epoch 5/10\n",
      "30/30 [==============================] - 0s 4ms/step - loss: 0.2550 - accuracy: 0.9594 - val_loss: 0.2219 - val_accuracy: 0.9806\n",
      "Epoch 6/10\n",
      "30/30 [==============================] - 0s 4ms/step - loss: 0.1973 - accuracy: 0.9844 - val_loss: 0.1714 - val_accuracy: 0.9879\n",
      "Epoch 7/10\n",
      "30/30 [==============================] - 0s 4ms/step - loss: 0.1523 - accuracy: 0.9885 - val_loss: 0.1364 - val_accuracy: 0.9903\n",
      "Epoch 8/10\n",
      "30/30 [==============================] - 0s 2ms/step - loss: 0.1209 - accuracy: 0.9958 - val_loss: 0.1091 - val_accuracy: 0.9927\n",
      "Epoch 9/10\n",
      "30/30 [==============================] - 0s 2ms/step - loss: 0.0983 - accuracy: 0.9969 - val_loss: 0.0896 - val_accuracy: 0.9976\n",
      "Epoch 10/10\n",
      "30/30 [==============================] - 0s 2ms/step - loss: 0.0814 - accuracy: 0.9969 - val_loss: 0.0744 - val_accuracy: 0.9976\n"
     ]
    },
    {
     "data": {
      "text/plain": [
       "<keras.callbacks.History at 0x2588c076ad0>"
      ]
     },
     "execution_count": 55,
     "metadata": {},
     "output_type": "execute_result"
    }
   ],
   "source": [
    "#Treinar o modelo\n",
    "model.fit(X_train, y_train, epochs=10, validation_data=(X_test, y_test))"
   ]
  }
 ],
 "metadata": {
  "kernelspec": {
   "display_name": "Python 3",
   "language": "python",
   "name": "python3"
  },
  "language_info": {
   "codemirror_mode": {
    "name": "ipython",
    "version": 3
   },
   "file_extension": ".py",
   "mimetype": "text/x-python",
   "name": "python",
   "nbconvert_exporter": "python",
   "pygments_lexer": "ipython3",
   "version": "3.11.4"
  },
  "orig_nbformat": 4
 },
 "nbformat": 4,
 "nbformat_minor": 2
}
